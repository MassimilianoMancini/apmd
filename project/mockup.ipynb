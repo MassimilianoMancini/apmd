{
 "cells": [
  {
   "cell_type": "code",
   "execution_count": 52,
   "id": "84137bcf",
   "metadata": {},
   "outputs": [],
   "source": [
    "import json\n",
    "import re\n",
    "import os\n",
    "import networkx as nx"
   ]
  },
  {
   "cell_type": "code",
   "execution_count": 53,
   "id": "6ca989a6",
   "metadata": {},
   "outputs": [],
   "source": [
    "authors = {}\n",
    "i = 0\n",
    "G = nx.Graph()"
   ]
  },
  {
   "cell_type": "code",
   "execution_count": 54,
   "id": "77b185f5",
   "metadata": {},
   "outputs": [],
   "source": [
    "for filename in os.listdir('sequences'):\n",
    "    with open(os.path.join('sequences', filename), 'r') as f:\n",
    "        data = json.load(f)\n",
    "        nodeName = data['query'][3:]\n",
    "        if 'results' in data and 'comment' in data['results'][0]:\n",
    "            for s in data['results'][0]['comment']:\n",
    "                x = re.search(r\"- _([a-zA-Z., -]+)_\", s)\n",
    "                if x:\n",
    "                    author = x.group(1)\n",
    "                    if author in authors:\n",
    "                        if nodeName not in authors[author]:\n",
    "                            authors[author].append(nodeName)\n",
    "                    else:\n",
    "                        authors[author] = [nodeName]"
   ]
  },
  {
   "cell_type": "code",
   "execution_count": null,
   "id": "25f07864",
   "metadata": {},
   "outputs": [],
   "source": []
  }
 ],
 "metadata": {
  "kernelspec": {
   "display_name": "Python 3 (ipykernel)",
   "language": "python",
   "name": "python3"
  },
  "language_info": {
   "codemirror_mode": {
    "name": "ipython",
    "version": 3
   },
   "file_extension": ".py",
   "mimetype": "text/x-python",
   "name": "python",
   "nbconvert_exporter": "python",
   "pygments_lexer": "ipython3",
   "version": "3.10.1"
  }
 },
 "nbformat": 4,
 "nbformat_minor": 5
}
