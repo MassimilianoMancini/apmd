{
 "cells": [
  {
   "cell_type": "code",
   "execution_count": 80,
   "id": "84137bcf",
   "metadata": {},
   "outputs": [],
   "source": [
    "import json"
   ]
  },
  {
   "cell_type": "code",
   "execution_count": 81,
   "id": "3e9dd7ca",
   "metadata": {},
   "outputs": [],
   "source": [
    "import re"
   ]
  },
  {
   "cell_type": "code",
   "execution_count": 82,
   "id": "6cdae896",
   "metadata": {},
   "outputs": [],
   "source": [
    "f = open('sequences/A000045.json')"
   ]
  },
  {
   "cell_type": "code",
   "execution_count": 83,
   "id": "a908a1c1",
   "metadata": {},
   "outputs": [],
   "source": [
    "data = json.load(f)"
   ]
  },
  {
   "cell_type": "code",
   "execution_count": 100,
   "id": "62b688c3",
   "metadata": {},
   "outputs": [
    {
     "name": "stdout",
     "output_type": "stream",
     "text": [
      "Emeric Deutsch\n",
      "Amarnath Murthy\n",
      "Ross La Haye\n",
      "Antti Karttunen\n",
      "Branko Malesevic\n",
      "Clark Kimberling\n",
      "Clark Kimberling\n",
      "Clark Kimberling\n",
      "Gerald McGarvey\n",
      "Clark Kimberling\n",
      "Greg Dresden\n",
      "Clark Kimberling\n",
      "Jonathan Sondow\n",
      "Jeroen F.J. Laros\n",
      "Lekraj Beedassy\n",
      "Reinhard Zumkeller\n",
      "Paul Barry\n",
      "Mitch Harris\n",
      "Joshua Zucker\n",
      "Mitch Harris\n",
      "Brian Davey\n",
      "Parthasarathy Nambi\n",
      "Hieronymus Fischer\n",
      "Hieronymus Fischer\n",
      "Jonathan Vos Post\n",
      "Gary W. Adamson\n",
      "Colm Mulcahy\n",
      "Mohammad K. Azarian\n",
      "Gary W. Adamson\n",
      "Cino Hilliard\n",
      "Ross Drewe\n",
      "Gary W. Adamson\n",
      "Gary W. Adamson\n",
      "Gary W. Adamson\n",
      "Mohamed Bouhamida\n",
      "Mohamed Bouhamida\n",
      "Reinhard Zumkeller\n",
      "Henry Bottomley\n",
      "Emeric Deutsch\n",
      "Mohamed Bouhamida\n",
      "Jonathan Vos Post\n",
      "Johannes W. Meijer\n",
      "Vaclav Kotesovec\n",
      "Gary W. Adamson\n",
      "Gary Detlefs\n",
      "Gary Detlefs\n",
      "Gary Detlefs\n",
      "Joseph P. Shoulak\n",
      "Reinhard Zumkeller\n",
      "Thomas Ordowski\n",
      "Alex Ratushnyak\n",
      "Gary W. Adamson\n",
      "Roman Witula\n",
      "Hieronymus Fischer\n",
      "Joerg Arndt\n",
      "Reinhard Zumkeller\n",
      "Jay Pantone\n",
      "Wolfdieter Lang\n",
      "Reinhard Zumkeller\n",
      "Charlie Marion\n",
      "Charlie Marion\n",
      "Richard R. Forberg\n",
      "Shaun V. Ault\n",
      "Charles R Greathouse IV\n",
      "Richard R. Forberg\n",
      "Mike Winkler\n",
      "Emmanuel Vantieghem\n",
      "Emmanuel Vantieghem\n",
      "Thomas Ordowski\n",
      "David Neil McGrath\n",
      "David Neil McGrath\n",
      "Lekraj Beedassy\n",
      "Peter Luschny\n",
      "Milan Janjic\n",
      "Wolfdieter Lang\n",
      "David Neil McGrath\n",
      "Juhani Heino\n",
      "Kostas Manes\n",
      "Jonathan Sondow\n",
      "Ran Pan\n",
      "Clark Kimberling\n",
      "Dmitry Efimov\n",
      "J. M. Bergot\n",
      "J. M. Bergot\n",
      "Gregory L. Simay\n",
      "Gary W. Adamson\n",
      "Eric W. Weisstein\n",
      "Sergey Kirgizov\n",
      "Liam Solus\n",
      "M. F. Hasler\n",
      "Kevin Long\n",
      "Jia Huang\n",
      "Gary W. Adamson\n",
      "Bridget Tenner\n",
      "Bridget Tenner\n",
      "Enrique Navarrete\n",
      "Enrique Navarrete\n",
      "Amiram Eldar\n"
     ]
    }
   ],
   "source": [
    "for s in data['results'][0]['comment']:\n",
    "    x = re.search(r\"- _([a-zA-Z., -]+)_\", s)\n",
    "    if x:\n",
    "        print (x.group(1))"
   ]
  }
 ],
 "metadata": {
  "kernelspec": {
   "display_name": "Python 3 (ipykernel)",
   "language": "python",
   "name": "python3"
  },
  "language_info": {
   "codemirror_mode": {
    "name": "ipython",
    "version": 3
   },
   "file_extension": ".py",
   "mimetype": "text/x-python",
   "name": "python",
   "nbconvert_exporter": "python",
   "pygments_lexer": "ipython3",
   "version": "3.10.1"
  }
 },
 "nbformat": 4,
 "nbformat_minor": 5
}
