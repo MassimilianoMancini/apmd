{
 "cells": [
  {
   "cell_type": "markdown",
   "id": "94d843a4",
   "metadata": {},
   "source": [
    "1. Scrivere una funzione ricorsiva che calcola la somma dei primi n numeri"
   ]
  },
  {
   "cell_type": "code",
   "execution_count": null,
   "id": "2ed614ac",
   "metadata": {},
   "outputs": [],
   "source": [
    "def sumOfNumbers(n):\n",
    "    if n < 0 or not isinstance(n, int):\n",
    "        return None\n",
    "    elif n == 0:\n",
    "        return n\n",
    "    else:\n",
    "        return n + sumOfNumbers(n-1)\n",
    "    \n",
    "print (sumOfNumbers(1000))"
   ]
  },
  {
   "cell_type": "markdown",
   "id": "f586f182",
   "metadata": {},
   "source": [
    "2. Scrivere una funzione ricorsiva che calcola la potenza di un numero"
   ]
  },
  {
   "cell_type": "code",
   "execution_count": null,
   "id": "9e35c011",
   "metadata": {},
   "outputs": [],
   "source": [
    "def power(b, e):\n",
    "    if e < 0 or not isinstance(e, int):\n",
    "        return None\n",
    "    elif e == 0:\n",
    "        return 1\n",
    "    elif e == 1:\n",
    "        return b\n",
    "    else:\n",
    "        return b * power(b, e-1)\n",
    "    \n",
    "print (power(2, 5))"
   ]
  },
  {
   "cell_type": "markdown",
   "id": "3f49508e",
   "metadata": {},
   "source": [
    "3. Il Triangolo di Pascal è un insieme di numeri organizzati in un triangolo di numeri tali che\n",
    "\n",
    "$$a_{nr}=\\frac{n!}{r!(n−r)!}$$\n",
    "\n",
    "Questa equazione è l'equazione del coefficiente binomiale. Possiamo costruire il triangolo di Pascal sommando i due numeri che sono sopra (diagonalmente) a ciascun numero. Per esempio:\n",
    "```\n",
    "\n",
    "        1\n",
    "      1   1\n",
    "    1   2   1\n",
    "  1   3   3   1\n",
    "1   4   6   4   1\n",
    "```\n",
    "Scrivere un programma che stampa il triangolo di Pascal. Il programma deve accettare un parametro che dice il numero di righe da stampare. "
   ]
  },
  {
   "cell_type": "markdown",
   "id": "67a9c7d1",
   "metadata": {},
   "source": [
    "$$\n",
    "\\begin{matrix}\n",
    "1 & 0 & 0 & 0 & 0\\\\\n",
    "1 & 1 & 0 & 0 & 0\\\\\n",
    "1 & 2 & 1 & 0 & 0\\\\\n",
    "1 & 3 & 3 & 1 & 0\\\\\n",
    "1 & 4 & 6 & 4 & 1\n",
    "\\end{matrix}\n",
    "$$"
   ]
  },
  {
   "cell_type": "markdown",
   "id": "54b7c4fc",
   "metadata": {},
   "source": [
    "$$\n",
    "a_i = \\begin{cases}\n",
    "    1 & i = 0, i = n\\\\\n",
    "    0 &i < n\\\\\n",
    "    a_{i - n} + a_{i - n - 1} &i > n\\\\\n",
    "    \\end{cases}\n",
    "$$"
   ]
  },
  {
   "cell_type": "code",
   "execution_count": 20,
   "id": "6129639d",
   "metadata": {},
   "outputs": [],
   "source": [
    "def pascal(n):\n",
    "    m = [0] * n**2\n",
    "    for i in range(n**2):\n",
    "        if i == 0 or i == n:\n",
    "            m[i] = 1\n",
    "        elif i < n:\n",
    "            m[i] = 0\n",
    "        else:\n",
    "            m[i] = m[i-n] + m[i-n-1]\n",
    "    return m"
   ]
  },
  {
   "cell_type": "code",
   "execution_count": 24,
   "id": "ba9c046e",
   "metadata": {},
   "outputs": [
    {
     "name": "stdout",
     "output_type": "stream",
     "text": [
      "[[  1   0   0   0   0   0   0   0   0   0]\n",
      " [  1   1   0   0   0   0   0   0   0   0]\n",
      " [  1   2   1   0   0   0   0   0   0   0]\n",
      " [  1   3   3   1   0   0   0   0   0   0]\n",
      " [  1   4   6   4   1   0   0   0   0   0]\n",
      " [  1   5  10  10   5   1   0   0   0   0]\n",
      " [  1   6  15  20  15   6   1   0   0   0]\n",
      " [  1   7  21  35  35  21   7   1   0   0]\n",
      " [  1   8  28  56  70  56  28   8   1   0]\n",
      " [  1   9  36  84 126 126  84  36   9   1]]\n"
     ]
    }
   ],
   "source": [
    "import numpy as np\n",
    "print(np.array(pascal(10)).reshape(10,10))"
   ]
  },
  {
   "cell_type": "markdown",
   "id": "5a0571a5",
   "metadata": {},
   "source": [
    "4. I numeri di Catalan sono una sequenza di interi particolare. Realizzare una funzione ricorsiva, che dato un numero n calcola (e restituisce) l'n-esimo numero delle sequenza in base alla definizione induttiva fornita di seguito\n",
    "$$\n",
    "C_0 = 1\\\\\n",
    "C_{n+1} = \\frac{4n+2}{n+2}C_n\n",
    "$$"
   ]
  },
  {
   "cell_type": "code",
   "execution_count": null,
   "id": "fd7c1550",
   "metadata": {},
   "outputs": [],
   "source": [
    "def catalan(n):\n",
    "    if n == 0:\n",
    "        return 1\n",
    "    else:\n",
    "        return int((4 * n - 2)/(n + 1) * catalan(n-1))\n",
    "\n",
    "for i in range(10):\n",
    "    print (catalan(i))"
   ]
  }
 ],
 "metadata": {
  "kernelspec": {
   "display_name": "Python 3 (ipykernel)",
   "language": "python",
   "name": "python3"
  },
  "language_info": {
   "codemirror_mode": {
    "name": "ipython",
    "version": 3
   },
   "file_extension": ".py",
   "mimetype": "text/x-python",
   "name": "python",
   "nbconvert_exporter": "python",
   "pygments_lexer": "ipython3",
   "version": "3.10.0"
  }
 },
 "nbformat": 4,
 "nbformat_minor": 5
}
