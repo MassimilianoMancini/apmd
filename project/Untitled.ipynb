{
 "cells": [
  {
   "cell_type": "code",
   "execution_count": 10,
   "id": "671b30e3",
   "metadata": {},
   "outputs": [],
   "source": [
    "import itertools\n",
    "import networkx as nx"
   ]
  },
  {
   "cell_type": "code",
   "execution_count": 12,
   "id": "83726297",
   "metadata": {},
   "outputs": [],
   "source": [
    "l = ['a1', 'a2', 'a3', 'a4', 'a5', 'a6', 'a7']\n",
    "G = nx.empty_graph()"
   ]
  },
  {
   "cell_type": "code",
   "execution_count": 13,
   "id": "74e6138e",
   "metadata": {},
   "outputs": [],
   "source": [
    "e = itertools.combinations(l, 2)"
   ]
  },
  {
   "cell_type": "code",
   "execution_count": 14,
   "id": "70f10e85",
   "metadata": {},
   "outputs": [],
   "source": [
    "G.add_edges_from(e)"
   ]
  },
  {
   "cell_type": "code",
   "execution_count": 16,
   "id": "f0718577",
   "metadata": {},
   "outputs": [
    {
     "name": "stdout",
     "output_type": "stream",
     "text": [
      "[('a1', 'a2'), ('a1', 'a3'), ('a1', 'a4'), ('a1', 'a5'), ('a1', 'a6'), ('a1', 'a7'), ('a2', 'a3'), ('a2', 'a4'), ('a2', 'a5'), ('a2', 'a6'), ('a2', 'a7'), ('a3', 'a4'), ('a3', 'a5'), ('a3', 'a6'), ('a3', 'a7'), ('a4', 'a5'), ('a4', 'a6'), ('a4', 'a7'), ('a5', 'a6'), ('a5', 'a7'), ('a6', 'a7')]\n"
     ]
    }
   ],
   "source": [
    "print(G.edges)"
   ]
  }
 ],
 "metadata": {
  "kernelspec": {
   "display_name": "Python 3 (ipykernel)",
   "language": "python",
   "name": "python3"
  },
  "language_info": {
   "codemirror_mode": {
    "name": "ipython",
    "version": 3
   },
   "file_extension": ".py",
   "mimetype": "text/x-python",
   "name": "python",
   "nbconvert_exporter": "python",
   "pygments_lexer": "ipython3",
   "version": "3.10.1"
  }
 },
 "nbformat": 4,
 "nbformat_minor": 5
}
