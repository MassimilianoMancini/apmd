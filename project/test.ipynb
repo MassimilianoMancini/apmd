{
 "cells": [
  {
   "cell_type": "code",
   "execution_count": 1,
   "id": "671b30e3",
   "metadata": {},
   "outputs": [],
   "source": [
    "import itertools\n",
    "import networkx as nx"
   ]
  },
  {
   "cell_type": "code",
   "execution_count": 4,
   "id": "83726297",
   "metadata": {},
   "outputs": [],
   "source": [
    "l = ['a1', 'a2']\n",
    "e = itertools.combinations(l, 2)\n",
    "G = nx.Graph()\n",
    "G.add_edges_from(e)"
   ]
  },
  {
   "cell_type": "code",
   "execution_count": 5,
   "id": "f0718577",
   "metadata": {},
   "outputs": [
    {
     "name": "stdout",
     "output_type": "stream",
     "text": [
      "[('a1', 'a2')]\n"
     ]
    }
   ],
   "source": [
    "print(G.edges)"
   ]
  }
 ],
 "metadata": {
  "kernelspec": {
   "display_name": "Python 3 (ipykernel)",
   "language": "python",
   "name": "python3"
  },
  "language_info": {
   "codemirror_mode": {
    "name": "ipython",
    "version": 3
   },
   "file_extension": ".py",
   "mimetype": "text/x-python",
   "name": "python",
   "nbconvert_exporter": "python",
   "pygments_lexer": "ipython3",
   "version": "3.10.1"
  }
 },
 "nbformat": 4,
 "nbformat_minor": 5
}
